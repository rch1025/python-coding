{
 "cells": [
  {
   "cell_type": "code",
   "execution_count": 74,
   "id": "0e9c0c27",
   "metadata": {},
   "outputs": [],
   "source": [
    "import xml.etree.ElementTree as ET"
   ]
  },
  {
   "cell_type": "code",
   "execution_count": 10,
   "id": "118d1abf",
   "metadata": {},
   "outputs": [],
   "source": [
    "import numpy as np\n",
    "import warnings\n",
    "\n",
    "warnings.filterwarnings(action='ignore')"
   ]
  },
  {
   "cell_type": "markdown",
   "id": "34c42b80",
   "metadata": {},
   "source": [
    "## <데이터 차원과 형태>"
   ]
  },
  {
   "cell_type": "code",
   "execution_count": 5,
   "id": "8c4aadfb",
   "metadata": {},
   "outputs": [
    {
     "data": {
      "text/plain": [
       "array([[1, 2],\n",
       "       [3, 4],\n",
       "       [5, 6]])"
      ]
     },
     "execution_count": 5,
     "metadata": {},
     "output_type": "execute_result"
    }
   ],
   "source": [
    "data = np.array([[1,2], [3,4], [5,6]])\n",
    "data"
   ]
  },
  {
   "cell_type": "code",
   "execution_count": 6,
   "id": "aa874ec3",
   "metadata": {},
   "outputs": [
    {
     "name": "stdout",
     "output_type": "stream",
     "text": [
      "(3, 2)\n",
      "6\n",
      "2\n",
      "24\n",
      "int32\n"
     ]
    }
   ],
   "source": [
    "print(data.shape)\n",
    "print(data.size)\n",
    "print(data.ndim)\n",
    "print(data.nbytes)\n",
    "print(data.dtype)"
   ]
  },
  {
   "cell_type": "markdown",
   "id": "0d5ce886",
   "metadata": {},
   "source": [
    "## <수치형 데이터 타입>"
   ]
  },
  {
   "cell_type": "code",
   "execution_count": 11,
   "id": "78d8063c",
   "metadata": {},
   "outputs": [
    {
     "name": "stdout",
     "output_type": "stream",
     "text": [
      "[1 2 3]\n",
      "[1. 2. 3.]\n",
      "[1.+0.j 2.+0.j 3.+0.j]\n"
     ]
    }
   ],
   "source": [
    "print(np.array([1,2,3], dtype=np.int))\n",
    "print(np.array([1,2,3], dtype=np.float))\n",
    "print(np.array([1,2,3], dtype=np.complex))"
   ]
  },
  {
   "cell_type": "code",
   "execution_count": 12,
   "id": "a1dbeb11",
   "metadata": {},
   "outputs": [
    {
     "data": {
      "text/plain": [
       "array([[1., 2.],\n",
       "       [3., 4.],\n",
       "       [5., 6.]])"
      ]
     },
     "execution_count": 12,
     "metadata": {},
     "output_type": "execute_result"
    }
   ],
   "source": [
    "## 형 변환\n",
    "data = np.array([[1,2], [3,4], [5,6]], dtype = np.int)\n",
    "data.astype(np.float)"
   ]
  },
  {
   "cell_type": "markdown",
   "id": "679b6cad",
   "metadata": {},
   "source": [
    "## <메소드>"
   ]
  },
  {
   "cell_type": "code",
   "execution_count": 17,
   "id": "4d88b742",
   "metadata": {},
   "outputs": [
    {
     "name": "stdout",
     "output_type": "stream",
     "text": [
      "[[0. 0. 0.]\n",
      " [0. 0. 0.]]\n",
      "\n",
      "[1. 1. 1. 1.]\n",
      "\n",
      "[3.2 3.2 3.2]\n",
      "\n"
     ]
    }
   ],
   "source": [
    "print(np.zeros((2,3)), end='\\n\\n')\n",
    "print(np.ones(4), end='\\n\\n')\n",
    "print(np.full(3,3.2), end='\\n\\n')"
   ]
  },
  {
   "cell_type": "code",
   "execution_count": 19,
   "id": "37f0f776",
   "metadata": {},
   "outputs": [
    {
     "name": "stdout",
     "output_type": "stream",
     "text": [
      "[3. 3. 3. 3.]\n"
     ]
    }
   ],
   "source": [
    "data = np.ones(4)\n",
    "data.fill(3)\n",
    "print(data)"
   ]
  },
  {
   "cell_type": "code",
   "execution_count": 28,
   "id": "1a1adc79",
   "metadata": {},
   "outputs": [
    {
     "name": "stdout",
     "output_type": "stream",
     "text": [
      "[0 4 8]\n",
      "\n",
      "[ 0.          5.33333333 10.66666667 16.        ]\n",
      "\n",
      "[  1.  10. 100.]\n"
     ]
    }
   ],
   "source": [
    "print(np.arange(0,12,4), end='\\n\\n')\n",
    "\n",
    "# 4개의 포인트 설정하여 3개의 구간으로 나누기\n",
    "print(np.linspace(0,16,4), end = '\\n\\n')\n",
    "\n",
    "print(np.logspace(0,2,3))"
   ]
  },
  {
   "cell_type": "code",
   "execution_count": 33,
   "id": "97b3bc9e",
   "metadata": {},
   "outputs": [
    {
     "name": "stdout",
     "output_type": "stream",
     "text": [
      "[[-1  0  1]\n",
      " [-1  0  1]\n",
      " [-1  0  1]]\n",
      "\n",
      "[[-2 -2 -2]\n",
      " [ 0  0  0]\n",
      " [ 2  2  2]]\n"
     ]
    }
   ],
   "source": [
    "x = np.array([-1,0,1])\n",
    "y = np.array([-2,0,2])\n",
    "x,y = np.meshgrid(x,y)\n",
    "print(x, end='\\n\\n')\n",
    "print(y)"
   ]
  },
  {
   "cell_type": "code",
   "execution_count": 34,
   "id": "8561800f",
   "metadata": {},
   "outputs": [
    {
     "data": {
      "text/plain": [
       "array([0.96537725, 0.98760822])"
      ]
     },
     "execution_count": 34,
     "metadata": {},
     "output_type": "execute_result"
    }
   ],
   "source": [
    "# 0과 1사이의 랜덤 수\n",
    "np.random.rand(2)"
   ]
  },
  {
   "cell_type": "code",
   "execution_count": 35,
   "id": "acc87ce4",
   "metadata": {},
   "outputs": [
    {
     "data": {
      "text/plain": [
       "array([[1., 0., 0.],\n",
       "       [0., 1., 0.],\n",
       "       [0., 0., 1.]])"
      ]
     },
     "execution_count": 35,
     "metadata": {},
     "output_type": "execute_result"
    }
   ],
   "source": [
    "# 항등 행렬\n",
    "np.identity(3)"
   ]
  },
  {
   "cell_type": "code",
   "execution_count": 36,
   "id": "30ffa939",
   "metadata": {},
   "outputs": [
    {
     "data": {
      "text/plain": [
       "array([[ 0,  0,  0],\n",
       "       [ 0, 10,  0],\n",
       "       [ 0,  0, 20]])"
      ]
     },
     "execution_count": 36,
     "metadata": {},
     "output_type": "execute_result"
    }
   ],
   "source": [
    "# diagonal matrix\n",
    "np.diag(np.arange(0,30,10))"
   ]
  },
  {
   "cell_type": "markdown",
   "id": "036bfc0b",
   "metadata": {},
   "source": [
    "## 인덱싱과 슬라이싱"
   ]
  },
  {
   "cell_type": "code",
   "execution_count": 41,
   "id": "ac89fc51",
   "metadata": {},
   "outputs": [
    {
     "name": "stdout",
     "output_type": "stream",
     "text": [
      "0\n",
      "10\n",
      "[0 1 2 3 4]\n",
      "[0 2 4]\n",
      "[0 1 2 3 4]\n",
      "[ 6  7  8  9 10]\n",
      "[10  8  6  4  2  0]\n"
     ]
    }
   ],
   "source": [
    "a = np.arange(0, 11)\n",
    "print(a[0])\n",
    "print(a[-1])\n",
    "print(a[0:5])\n",
    "print(a[0:5:2])\n",
    "print(a[:5])\n",
    "print(a[-5:])\n",
    "print(a[::-2])"
   ]
  },
  {
   "cell_type": "code",
   "execution_count": 42,
   "id": "81cb9f75",
   "metadata": {},
   "outputs": [
    {
     "name": "stdout",
     "output_type": "stream",
     "text": [
      "[ 2 12 22 32]\n",
      "\n",
      "[11 12 13 14]\n",
      "\n",
      "[[ 1  2]\n",
      " [11 12]]\n",
      "\n",
      "[[21 22]\n",
      " [31 32]]\n",
      "\n",
      "[[ 1  3]\n",
      " [21 23]]\n",
      "\n",
      "[[12 14]\n",
      " [32 34]]\n",
      "\n"
     ]
    }
   ],
   "source": [
    "a = np.array([[1,2,3,4],\n",
    "             [11,12,13,14],\n",
    "             [21,22,23,24],\n",
    "             [31,32,33,34]])\n",
    "print(a[:,1], end='\\n\\n')\n",
    "print(a[1,:], end='\\n\\n')\n",
    "print(a[:2,:2], end='\\n\\n')\n",
    "print(a[2:,:2], end='\\n\\n')\n",
    "print(a[::2,::2], end='\\n\\n')\n",
    "print(a[1::2,1::2], end='\\n\\n')"
   ]
  },
  {
   "cell_type": "code",
   "execution_count": 44,
   "id": "e6ced8bc",
   "metadata": {},
   "outputs": [
    {
     "name": "stdout",
     "output_type": "stream",
     "text": [
      "[0.  0.1 0.2 0.3 0.4 0.5 0.6 0.7 0.8 0.9 1. ]\n",
      "\n",
      "[0.  0.2 0.4]\n",
      "\n",
      "[0.6 0.7 0.8 0.9 1. ]\n",
      "\n",
      "[0.2 0.3 0.4]\n",
      "\n"
     ]
    }
   ],
   "source": [
    "# 0~1 사이에 11개 만들기 (같은 간격으로)\n",
    "data = np.linspace(0,1,11)\n",
    "print(data, end='\\n\\n')\n",
    "print(data[np.array([0,2,4])], end='\\n\\n')\n",
    "print(data[data>0.5], end='\\n\\n')\n",
    "print(data[np.arange(2,5)], end='\\n\\n')"
   ]
  },
  {
   "cell_type": "markdown",
   "id": "5e651089",
   "metadata": {},
   "source": [
    "## Resizing and Adding dim"
   ]
  },
  {
   "cell_type": "code",
   "execution_count": 45,
   "id": "8c7b499e",
   "metadata": {},
   "outputs": [
    {
     "data": {
      "text/plain": [
       "array([1, 2, 3, 4])"
      ]
     },
     "execution_count": 45,
     "metadata": {},
     "output_type": "execute_result"
    }
   ],
   "source": [
    "# reshape\n",
    "data = np.array([[1,2],\n",
    "                 [3,4]])\n",
    "np.reshape(data, (1,4))\n",
    "data.flatten()"
   ]
  },
  {
   "cell_type": "code",
   "execution_count": 49,
   "id": "0dbaccc6",
   "metadata": {},
   "outputs": [
    {
     "name": "stdout",
     "output_type": "stream",
     "text": [
      "[0 1 2 3 4]\n",
      "\n",
      "[[0 1 2 3 4]\n",
      " [0 1 2 3 4]\n",
      " [0 1 2 3 4]]\n",
      "\n",
      "[0 1 2 3 4 0 1 2 3 4]\n"
     ]
    }
   ],
   "source": [
    "data = np.arange(5)\n",
    "print(data, end = '\\n\\n')\n",
    "\n",
    "# 행으로 쌓기\n",
    "print(np.vstack((data, data, data)), end='\\n\\n')\n",
    "\n",
    "# 열로 쌓기\n",
    "print(np.hstack((data, data)))"
   ]
  },
  {
   "cell_type": "code",
   "execution_count": 54,
   "id": "436a383e",
   "metadata": {},
   "outputs": [
    {
     "data": {
      "text/plain": [
       "array([0, 1, 2, 0, 1, 2, 3])"
      ]
     },
     "execution_count": 54,
     "metadata": {},
     "output_type": "execute_result"
    }
   ],
   "source": [
    "# 넘파이 어레이끼리 합치기\n",
    "a = np.arange(3)\n",
    "b = np.arange(4)\n",
    "\n",
    "np.concatenate((a,b))"
   ]
  },
  {
   "cell_type": "code",
   "execution_count": 55,
   "id": "34d46908",
   "metadata": {},
   "outputs": [
    {
     "data": {
      "text/plain": [
       "array([0, 1, 2, 3, 4, 5])"
      ]
     },
     "execution_count": 55,
     "metadata": {},
     "output_type": "execute_result"
    }
   ],
   "source": [
    "# 넘파이 어레이끼리 합치기 2\n",
    "np.append(a, [3,4,5])"
   ]
  },
  {
   "cell_type": "code",
   "execution_count": 56,
   "id": "1ff3c598",
   "metadata": {},
   "outputs": [
    {
     "data": {
      "text/plain": [
       "array([[0, 1, 2],\n",
       "       [3, 0, 1]])"
      ]
     },
     "execution_count": 56,
     "metadata": {},
     "output_type": "execute_result"
    }
   ],
   "source": [
    "np.resize(b, (2,3))"
   ]
  },
  {
   "cell_type": "code",
   "execution_count": 93,
   "id": "f260bef2",
   "metadata": {},
   "outputs": [
    {
     "data": {
      "text/plain": [
       "array([[1, 2, 3],\n",
       "       [7, 8, 9]])"
      ]
     },
     "execution_count": 93,
     "metadata": {},
     "output_type": "execute_result"
    }
   ],
   "source": [
    "# 정렬\"\n",
    "data = [[2,3,1], [9,8,7]]\n",
    "np.sort(data)"
   ]
  },
  {
   "cell_type": "markdown",
   "id": "dc0d083b",
   "metadata": {},
   "source": [
    "## 수학 함수"
   ]
  },
  {
   "cell_type": "code",
   "execution_count": 63,
   "id": "eaff4ee1",
   "metadata": {},
   "outputs": [
    {
     "name": "stdout",
     "output_type": "stream",
     "text": [
      "2.0\n",
      "\n",
      "3.0\n",
      "\n",
      "2.0\n",
      "\n"
     ]
    }
   ],
   "source": [
    "print(np.sqrt(4), end='\\n\\n')\n",
    "print(np.log2(8), end='\\n\\n')\n",
    "print(np.log10(100), end='\\n\\n')"
   ]
  },
  {
   "cell_type": "code",
   "execution_count": 72,
   "id": "d958fdfc",
   "metadata": {},
   "outputs": [
    {
     "name": "stdout",
     "output_type": "stream",
     "text": [
      "[4 6]\n",
      "[1 2]\n",
      "\n",
      "[2, 3, 2, 3]\n"
     ]
    },
    {
     "ename": "TypeError",
     "evalue": "unsupported operand type(s) for -: 'list' and 'int'",
     "output_type": "error",
     "traceback": [
      "\u001b[1;31m---------------------------------------------------------------------------\u001b[0m",
      "\u001b[1;31mTypeError\u001b[0m                                 Traceback (most recent call last)",
      "\u001b[1;32m<ipython-input-72-1684548c8745>\u001b[0m in \u001b[0;36m<module>\u001b[1;34m\u001b[0m\n\u001b[0;32m      7\u001b[0m \u001b[0mdata_list\u001b[0m \u001b[1;33m=\u001b[0m \u001b[1;33m[\u001b[0m\u001b[1;36m2\u001b[0m\u001b[1;33m,\u001b[0m\u001b[1;36m3\u001b[0m\u001b[1;33m]\u001b[0m\u001b[1;33m\u001b[0m\u001b[1;33m\u001b[0m\u001b[0m\n\u001b[0;32m      8\u001b[0m \u001b[0mprint\u001b[0m\u001b[1;33m(\u001b[0m\u001b[0mdata_list\u001b[0m\u001b[1;33m*\u001b[0m\u001b[1;36m2\u001b[0m\u001b[1;33m)\u001b[0m\u001b[1;33m\u001b[0m\u001b[1;33m\u001b[0m\u001b[0m\n\u001b[1;32m----> 9\u001b[1;33m \u001b[0mprint\u001b[0m\u001b[1;33m(\u001b[0m\u001b[0mdata_list\u001b[0m\u001b[1;33m-\u001b[0m\u001b[1;36m1\u001b[0m\u001b[1;33m)\u001b[0m\u001b[1;33m\u001b[0m\u001b[1;33m\u001b[0m\u001b[0m\n\u001b[0m",
      "\u001b[1;31mTypeError\u001b[0m: unsupported operand type(s) for -: 'list' and 'int'"
     ]
    }
   ],
   "source": [
    "# 숫자 하나에 관련한 연산\n",
    "data = np.array([2,3])\n",
    "print(data*2)\n",
    "print(data-1)\n",
    "print()\n",
    "\n",
    "# 리스트는 연산 불가능\n",
    "data_list = [2,3]\n",
    "print(data_list*2)\n",
    "print(data_list-1)"
   ]
  },
  {
   "cell_type": "code",
   "execution_count": null,
   "id": "fe43bb09",
   "metadata": {},
   "outputs": [],
   "source": [
    "a = np.array([1,2,3])\n",
    "b = np.array([2,4,6])\n",
    "\n",
    "# 각 어레이끼리의 연산\n",
    "# 모든 연산을 각자의 위치에 맞게 된다. -> 리스트도 마찬가지\n",
    "print(np.add(a,b), end='\\n\\n')\n",
    "print(np.subtract(b,a), end='\\n\\n')\n",
    "print(np.multiply(a,b), end='\\n\\n')\n",
    "print(np.divide(b,a), end='\\n\\n')"
   ]
  },
  {
   "cell_type": "code",
   "execution_count": 78,
   "id": "4300a655",
   "metadata": {},
   "outputs": [
    {
     "name": "stdout",
     "output_type": "stream",
     "text": [
      "4.5\n",
      "2.8722813232690143\n",
      "45\n",
      "8.25\n",
      "0\n",
      "0 9\n",
      "False\n",
      "True\n"
     ]
    }
   ],
   "source": [
    "data = np.arange(0,10)\n",
    "\n",
    "print(np.mean(data))\n",
    "print(np.std(data))\n",
    "print(np.sum(data))\n",
    "print(np.var(data))\n",
    "# 모든 값의 곱\n",
    "print(np.prod(data))\n",
    "print(np.argmin(data), np.argmax(data))\n",
    "print(np.all(data))\n",
    "print(np.any(data))"
   ]
  },
  {
   "cell_type": "markdown",
   "id": "6da46587",
   "metadata": {},
   "source": [
    "## Logical Expression"
   ]
  },
  {
   "cell_type": "code",
   "execution_count": 92,
   "id": "676f8434",
   "metadata": {},
   "outputs": [
    {
     "name": "stdout",
     "output_type": "stream",
     "text": [
      "[ 0.  4.  8. 12. 16.]\n",
      "\n",
      "[  0.   4.  80. 120. 160.]\n",
      "\n",
      "8.0\n",
      "\n",
      "(array([1, 2, 3, 4], dtype=int64),)\n",
      "\n",
      "[-1.  8. 16. 24. 32.]\n",
      "\n",
      "[False  True  True False False]\n",
      "\n",
      "[ True False False False  True]\n",
      "\n",
      "[ True  True False False False]\n",
      "\n"
     ]
    }
   ],
   "source": [
    "data = np.linspace(0,16,5)\n",
    "print(data, end='\\n\\n')\n",
    "\n",
    "print(np.where(data<5, data, 10*data), end='\\n\\n')\n",
    "print(np.choose(2,data), end='\\n\\n')\n",
    "print(np.nonzero(data), end='\\n\\n')\n",
    "print(np.select([data<2, data>=2],[data-1,data*2]), end='\\n\\n')\n",
    "print(np.logical_and(data>1, data<10), end='\\n\\n')\n",
    "print(np.logical_or(data<1, data>15), end='\\n\\n')\n",
    "print(np.logical_not(data>5), end='\\n\\n')"
   ]
  },
  {
   "cell_type": "markdown",
   "id": "ff764a33",
   "metadata": {},
   "source": [
    "## sympy"
   ]
  },
  {
   "cell_type": "code",
   "execution_count": 94,
   "id": "c3aed622",
   "metadata": {},
   "outputs": [],
   "source": [
    "import sympy"
   ]
  },
  {
   "cell_type": "code",
   "execution_count": 101,
   "id": "2e792b35",
   "metadata": {},
   "outputs": [
    {
     "name": "stdout",
     "output_type": "stream",
     "text": [
      "2*x**2 - x*(x + 1) - 2*x\n"
     ]
    }
   ],
   "source": [
    "x = sympy.Symbol('x')\n",
    "expr = 2*(x**2-x)-x*(x+1)\n",
    "expr"
   ]
  },
  {
   "cell_type": "code",
   "execution_count": 103,
   "id": "5d1d5c38",
   "metadata": {},
   "outputs": [
    {
     "data": {
      "text/latex": [
       "$\\displaystyle \\frac{1}{x^{2} - 1} + \\frac{1}{x + 1}$"
      ],
      "text/plain": [
       "1/(x**2 - 1) + 1/(x + 1)"
      ]
     },
     "execution_count": 103,
     "metadata": {},
     "output_type": "execute_result"
    }
   ],
   "source": [
    "expr = 1/(x**2-1) + 1/(x+1)\n",
    "expr"
   ]
  },
  {
   "cell_type": "code",
   "execution_count": null,
   "id": "b5fb3972",
   "metadata": {},
   "outputs": [],
   "source": []
  }
 ],
 "metadata": {
  "kernelspec": {
   "display_name": "Python 3",
   "language": "python",
   "name": "python3"
  },
  "language_info": {
   "codemirror_mode": {
    "name": "ipython",
    "version": 3
   },
   "file_extension": ".py",
   "mimetype": "text/x-python",
   "name": "python",
   "nbconvert_exporter": "python",
   "pygments_lexer": "ipython3",
   "version": "3.8.8"
  }
 },
 "nbformat": 4,
 "nbformat_minor": 5
}
