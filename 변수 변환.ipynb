{
 "cells": [
  {
   "cell_type": "code",
   "execution_count": 6,
   "id": "66979e4f",
   "metadata": {},
   "outputs": [],
   "source": [
    "import os.path\n",
    "import pandas as pd\n",
    "import numpy as np\n",
    "\n",
    "import warnings\n",
    "warnings.filterwarnings('ignore')"
   ]
  },
  {
   "cell_type": "code",
   "execution_count": 2,
   "id": "7c39f182",
   "metadata": {},
   "outputs": [],
   "source": [
    "DATA_PATH = 'data/'"
   ]
  },
  {
   "cell_type": "code",
   "execution_count": 11,
   "id": "dba9264b",
   "metadata": {},
   "outputs": [
    {
     "data": {
      "text/html": [
       "<div>\n",
       "<style scoped>\n",
       "    .dataframe tbody tr th:only-of-type {\n",
       "        vertical-align: middle;\n",
       "    }\n",
       "\n",
       "    .dataframe tbody tr th {\n",
       "        vertical-align: top;\n",
       "    }\n",
       "\n",
       "    .dataframe thead th {\n",
       "        text-align: right;\n",
       "    }\n",
       "</style>\n",
       "<table border=\"1\" class=\"dataframe\">\n",
       "  <thead>\n",
       "    <tr style=\"text-align: right;\">\n",
       "      <th></th>\n",
       "      <th>gender</th>\n",
       "      <th>car</th>\n",
       "      <th>reality</th>\n",
       "      <th>child_num</th>\n",
       "      <th>income_total</th>\n",
       "      <th>income_type</th>\n",
       "      <th>edu_type</th>\n",
       "      <th>family_type</th>\n",
       "      <th>house_type</th>\n",
       "      <th>DAYS_BIRTH</th>\n",
       "      <th>DAYS_EMPLOYED</th>\n",
       "      <th>FLAG_MOBIL</th>\n",
       "      <th>work_phone</th>\n",
       "      <th>phone</th>\n",
       "      <th>email</th>\n",
       "      <th>occyp_type</th>\n",
       "      <th>family_size</th>\n",
       "      <th>begin_month</th>\n",
       "      <th>credit</th>\n",
       "    </tr>\n",
       "    <tr>\n",
       "      <th>index</th>\n",
       "      <th></th>\n",
       "      <th></th>\n",
       "      <th></th>\n",
       "      <th></th>\n",
       "      <th></th>\n",
       "      <th></th>\n",
       "      <th></th>\n",
       "      <th></th>\n",
       "      <th></th>\n",
       "      <th></th>\n",
       "      <th></th>\n",
       "      <th></th>\n",
       "      <th></th>\n",
       "      <th></th>\n",
       "      <th></th>\n",
       "      <th></th>\n",
       "      <th></th>\n",
       "      <th></th>\n",
       "      <th></th>\n",
       "    </tr>\n",
       "  </thead>\n",
       "  <tbody>\n",
       "    <tr>\n",
       "      <th>0</th>\n",
       "      <td>F</td>\n",
       "      <td>N</td>\n",
       "      <td>N</td>\n",
       "      <td>0</td>\n",
       "      <td>202500.0</td>\n",
       "      <td>Commercial associate</td>\n",
       "      <td>Higher education</td>\n",
       "      <td>Married</td>\n",
       "      <td>Municipal apartment</td>\n",
       "      <td>-13899</td>\n",
       "      <td>-4709</td>\n",
       "      <td>1</td>\n",
       "      <td>0</td>\n",
       "      <td>0</td>\n",
       "      <td>0</td>\n",
       "      <td>NaN</td>\n",
       "      <td>2.0</td>\n",
       "      <td>-6.0</td>\n",
       "      <td>1.0</td>\n",
       "    </tr>\n",
       "    <tr>\n",
       "      <th>1</th>\n",
       "      <td>F</td>\n",
       "      <td>N</td>\n",
       "      <td>Y</td>\n",
       "      <td>1</td>\n",
       "      <td>247500.0</td>\n",
       "      <td>Commercial associate</td>\n",
       "      <td>Secondary / secondary special</td>\n",
       "      <td>Civil marriage</td>\n",
       "      <td>House / apartment</td>\n",
       "      <td>-11380</td>\n",
       "      <td>-1540</td>\n",
       "      <td>1</td>\n",
       "      <td>0</td>\n",
       "      <td>0</td>\n",
       "      <td>1</td>\n",
       "      <td>Laborers</td>\n",
       "      <td>3.0</td>\n",
       "      <td>-5.0</td>\n",
       "      <td>1.0</td>\n",
       "    </tr>\n",
       "    <tr>\n",
       "      <th>2</th>\n",
       "      <td>M</td>\n",
       "      <td>Y</td>\n",
       "      <td>Y</td>\n",
       "      <td>0</td>\n",
       "      <td>450000.0</td>\n",
       "      <td>Working</td>\n",
       "      <td>Higher education</td>\n",
       "      <td>Married</td>\n",
       "      <td>House / apartment</td>\n",
       "      <td>-19087</td>\n",
       "      <td>-4434</td>\n",
       "      <td>1</td>\n",
       "      <td>0</td>\n",
       "      <td>1</td>\n",
       "      <td>0</td>\n",
       "      <td>Managers</td>\n",
       "      <td>2.0</td>\n",
       "      <td>-22.0</td>\n",
       "      <td>2.0</td>\n",
       "    </tr>\n",
       "  </tbody>\n",
       "</table>\n",
       "</div>"
      ],
      "text/plain": [
       "      gender car reality  child_num  income_total           income_type  \\\n",
       "index                                                                     \n",
       "0          F   N       N          0      202500.0  Commercial associate   \n",
       "1          F   N       Y          1      247500.0  Commercial associate   \n",
       "2          M   Y       Y          0      450000.0               Working   \n",
       "\n",
       "                            edu_type     family_type           house_type  \\\n",
       "index                                                                       \n",
       "0                   Higher education         Married  Municipal apartment   \n",
       "1      Secondary / secondary special  Civil marriage    House / apartment   \n",
       "2                   Higher education         Married    House / apartment   \n",
       "\n",
       "       DAYS_BIRTH  DAYS_EMPLOYED  FLAG_MOBIL  work_phone  phone  email  \\\n",
       "index                                                                    \n",
       "0          -13899          -4709           1           0      0      0   \n",
       "1          -11380          -1540           1           0      0      1   \n",
       "2          -19087          -4434           1           0      1      0   \n",
       "\n",
       "      occyp_type  family_size  begin_month  credit  \n",
       "index                                               \n",
       "0            NaN          2.0         -6.0     1.0  \n",
       "1       Laborers          3.0         -5.0     1.0  \n",
       "2       Managers          2.0        -22.0     2.0  "
      ]
     },
     "execution_count": 11,
     "metadata": {},
     "output_type": "execute_result"
    }
   ],
   "source": [
    "df = pd.read_csv(os.path.join(DATA_PATH, 'train.csv'), encoding='euc-kr', index_col = 0)\n",
    "df.head(3)"
   ]
  },
  {
   "cell_type": "markdown",
   "id": "9a11523b",
   "metadata": {},
   "source": [
    "--------------"
   ]
  },
  {
   "cell_type": "markdown",
   "id": "2ed3c16c",
   "metadata": {},
   "source": [
    "## [변수에 함수 적용하여 변환하기]\n",
    "\n",
    "1. 함수 만들기\n",
    "2. map()을 통해 변수에 적용"
   ]
  },
  {
   "cell_type": "code",
   "execution_count": 12,
   "id": "9511494c",
   "metadata": {},
   "outputs": [],
   "source": [
    "### 업무 시작일(DAYS_EMPLOYED)이 0보다 작다면 (-1)을 곱하고 그렇지 않다면 0으로 변환\n",
    "\n",
    "## 함수 만들기\n",
    "def plus(x):\n",
    "    if x<0:\n",
    "        return x*(-1)\n",
    "    else:\n",
    "        return 0\n",
    "\n",
    "## 변수에 적용\n",
    "df['employed_plus'] = df.DAYS_EMPLOYED.map(plus)"
   ]
  },
  {
   "cell_type": "code",
   "execution_count": 14,
   "id": "5089ef56",
   "metadata": {
    "scrolled": true
   },
   "outputs": [
    {
     "data": {
      "text/plain": [
       "count    26457.000000\n",
       "mean      2198.529538\n",
       "std       2370.140530\n",
       "min          0.000000\n",
       "25%        407.000000\n",
       "50%       1539.000000\n",
       "75%       3153.000000\n",
       "max      15713.000000\n",
       "Name: employed_plus, dtype: float64"
      ]
     },
     "execution_count": 14,
     "metadata": {},
     "output_type": "execute_result"
    }
   ],
   "source": [
    "df['employed_plus'].describe()"
   ]
  },
  {
   "cell_type": "markdown",
   "id": "b15a39a9",
   "metadata": {},
   "source": [
    "------"
   ]
  },
  {
   "cell_type": "markdown",
   "id": "d1acbaf2",
   "metadata": {},
   "source": [
    "## [변수에 lambda 적용하여 변환하기]\n",
    "\n",
    "1. lambda 함수 생각\n",
    "2. apply 안에 lambda()을 통해 변수에 적용"
   ]
  },
  {
   "cell_type": "code",
   "execution_count": null,
   "id": "d0742110",
   "metadata": {},
   "outputs": [],
   "source": [
    "## 나이 구간화\n",
    "df['age']=(df.DAYS_BIRTH*(-1)/365).apply(lambda x:str(x)[0]+'0')\n",
    "\n",
    "## 0과 1로 범주화 (업무를 하는 사람과 아닌 사람)\n",
    "df['employed_bin'] = df.employed_plus.map(lambda x : 0 if x==0 else 1)"
   ]
  },
  {
   "cell_type": "markdown",
   "id": "4e8573fd",
   "metadata": {},
   "source": [
    "----"
   ]
  },
  {
   "cell_type": "markdown",
   "id": "b6a04f7f",
   "metadata": {},
   "source": [
    "# [replace를 사용하여 변환]\n",
    "\n",
    "1. 시리즈에 replace 메소드를 적용하여 변환"
   ]
  },
  {
   "cell_type": "code",
   "execution_count": null,
   "id": "9708dd96",
   "metadata": {},
   "outputs": [],
   "source": [
    "df.gender.replace(['F','M'],[0,1],inplace=True)"
   ]
  },
  {
   "cell_type": "markdown",
   "id": "f1699c6b",
   "metadata": {},
   "source": [
    "------"
   ]
  },
  {
   "cell_type": "markdown",
   "id": "86c7a623",
   "metadata": {},
   "source": [
    "#### 이 외에도 Label Encoding을 사용한 방법과 pd.cut 등 다양한 방법이 존재한다."
   ]
  }
 ],
 "metadata": {
  "kernelspec": {
   "display_name": "Python 3",
   "language": "python",
   "name": "python3"
  },
  "language_info": {
   "codemirror_mode": {
    "name": "ipython",
    "version": 3
   },
   "file_extension": ".py",
   "mimetype": "text/x-python",
   "name": "python",
   "nbconvert_exporter": "python",
   "pygments_lexer": "ipython3",
   "version": "3.7.10"
  }
 },
 "nbformat": 4,
 "nbformat_minor": 5
}
