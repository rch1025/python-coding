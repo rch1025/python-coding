{
 "cells": [
  {
   "cell_type": "markdown",
   "id": "6c992d27",
   "metadata": {},
   "source": [
    "## input()을 두 번 사용해서 변수 할당"
   ]
  },
  {
   "cell_type": "code",
   "execution_count": null,
   "id": "30c5d9b6",
   "metadata": {},
   "outputs": [],
   "source": [
    "a = input()\n",
    "b = input()\n",
    "print(b)\n",
    "print(a)"
   ]
  },
  {
   "cell_type": "markdown",
   "id": "c7e795ac",
   "metadata": {},
   "source": [
    "## split()을 사용하여 한 번에 변수 두 개 할당"
   ]
  },
  {
   "cell_type": "code",
   "execution_count": null,
   "id": "2f3043f3",
   "metadata": {},
   "outputs": [],
   "source": [
    "a, b = input().split()\n",
    "print(a)\n",
    "print(b)"
   ]
  },
  {
   "cell_type": "markdown",
   "id": "dd77ad8f",
   "metadata": {},
   "source": [
    "## 구분자를 공백이 아닌 다른 기호로 설정하여 변수에 할당"
   ]
  },
  {
   "cell_type": "code",
   "execution_count": null,
   "id": "c2f9834f",
   "metadata": {},
   "outputs": [],
   "source": [
    "a, b = input().split(':')\n",
    "print(a, b, sep=':')\n",
    "print(a,b)"
   ]
  },
  {
   "cell_type": "markdown",
   "id": "34fb2276",
   "metadata": {},
   "source": [
    "## 문자열을 나눠 리스트에 담기"
   ]
  },
  {
   "cell_type": "code",
   "execution_count": 5,
   "id": "46959a4d",
   "metadata": {},
   "outputs": [
    {
     "name": "stdout",
     "output_type": "stream",
     "text": [
      "['one,two,three/four/five:six:seven+eight+nine', 'ten', 'eleven']\n"
     ]
    }
   ],
   "source": [
    "sentence = \"one,two,three/four/five:six:seven+eight+nine ten eleven\"\n",
    "space_sen = sentence.split()\n",
    "print(space_sen)"
   ]
  },
  {
   "cell_type": "markdown",
   "id": "e242389e",
   "metadata": {},
   "source": [
    "## 콤마(,)로 분할"
   ]
  },
  {
   "cell_type": "code",
   "execution_count": 7,
   "id": "21e79b34",
   "metadata": {},
   "outputs": [
    {
     "name": "stdout",
     "output_type": "stream",
     "text": [
      "['one', 'two', 'three/four/five:six:seven+eight+nine ten eleven']\n"
     ]
    }
   ],
   "source": [
    "sentence = \"one,two,three/four/five:six:seven+eight+nine ten eleven\"\n",
    "space_sen = sentence.split(',')\n",
    "print(space_sen)"
   ]
  },
  {
   "cell_type": "markdown",
   "id": "457536b7",
   "metadata": {},
   "source": [
    "## 플러스(+)로 분할"
   ]
  },
  {
   "cell_type": "code",
   "execution_count": 8,
   "id": "3a175135",
   "metadata": {},
   "outputs": [
    {
     "name": "stdout",
     "output_type": "stream",
     "text": [
      "['one,two,three/four/five:six:seven', 'eight', 'nine ten eleven']\n"
     ]
    }
   ],
   "source": [
    "sentence = \"one,two,three/four/five:six:seven+eight+nine ten eleven\"\n",
    "space_sen = sentence.split('+')\n",
    "print(space_sen)"
   ]
  },
  {
   "cell_type": "markdown",
   "id": "6a74c176",
   "metadata": {},
   "source": [
    "## split() 메소드 옵션 : maxsplit = "
   ]
  },
  {
   "cell_type": "code",
   "execution_count": 20,
   "id": "30379b98",
   "metadata": {},
   "outputs": [
    {
     "name": "stdout",
     "output_type": "stream",
     "text": [
      "Netflix Original vs Watcha Play\n",
      "\n",
      "1번 분할 ['Netflix', 'Original vs Watcha Play']\n",
      "2번 분할 ['Netflix', 'Original', 'vs Watcha Play']\n",
      "3번 분할 ['Netflix', 'Original', 'vs', 'Watcha Play']\n"
     ]
    }
   ],
   "source": [
    "player = 'Netflix Original vs Watcha Play'\n",
    "print(player, end ='\\n\\n')\n",
    "\n",
    "# 1번 분할\n",
    "print('1번 분할', player.split(maxsplit=1))\n",
    "# 2번 분할\n",
    "print('2번 분할', player.split(maxsplit=2))\n",
    "# 3번 분할\n",
    "print('3번 분할', player.split(maxsplit=3))"
   ]
  },
  {
   "cell_type": "markdown",
   "id": "7d16b1f0",
   "metadata": {},
   "source": [
    "## 리스트를 분할 할 수는 없다."
   ]
  },
  {
   "cell_type": "code",
   "execution_count": 19,
   "id": "c98e9f13",
   "metadata": {},
   "outputs": [
    {
     "ename": "AttributeError",
     "evalue": "'list' object has no attribute 'split'",
     "output_type": "error",
     "traceback": [
      "\u001b[1;31m---------------------------------------------------------------------------\u001b[0m",
      "\u001b[1;31mAttributeError\u001b[0m                            Traceback (most recent call last)",
      "\u001b[1;32m<ipython-input-19-6110b612fcd9>\u001b[0m in \u001b[0;36m<module>\u001b[1;34m\u001b[0m\n\u001b[0;32m      1\u001b[0m \u001b[0mplayer\u001b[0m \u001b[1;33m=\u001b[0m \u001b[1;33m[\u001b[0m\u001b[1;34m'Netflix'\u001b[0m\u001b[1;33m,\u001b[0m \u001b[1;34m'Original'\u001b[0m\u001b[1;33m,\u001b[0m \u001b[1;34m'vs'\u001b[0m\u001b[1;33m,\u001b[0m \u001b[1;34m'Watcha'\u001b[0m\u001b[1;33m,\u001b[0m \u001b[1;34m'Play'\u001b[0m\u001b[1;33m]\u001b[0m\u001b[1;33m\u001b[0m\u001b[1;33m\u001b[0m\u001b[0m\n\u001b[1;32m----> 2\u001b[1;33m \u001b[0mplayer\u001b[0m\u001b[1;33m.\u001b[0m\u001b[0msplit\u001b[0m\u001b[1;33m(\u001b[0m\u001b[1;34m','\u001b[0m\u001b[1;33m)\u001b[0m\u001b[1;33m\u001b[0m\u001b[1;33m\u001b[0m\u001b[0m\n\u001b[0m",
      "\u001b[1;31mAttributeError\u001b[0m: 'list' object has no attribute 'split'"
     ]
    }
   ],
   "source": [
    "player = ['Netflix', 'Original', 'vs', 'Watcha', 'Play']\n",
    "player.split(',')"
   ]
  },
  {
   "cell_type": "code",
   "execution_count": null,
   "id": "76847b45",
   "metadata": {},
   "outputs": [],
   "source": []
  }
 ],
 "metadata": {
  "kernelspec": {
   "display_name": "Python 3",
   "language": "python",
   "name": "python3"
  },
  "language_info": {
   "codemirror_mode": {
    "name": "ipython",
    "version": 3
   },
   "file_extension": ".py",
   "mimetype": "text/x-python",
   "name": "python",
   "nbconvert_exporter": "python",
   "pygments_lexer": "ipython3",
   "version": "3.7.10"
  }
 },
 "nbformat": 4,
 "nbformat_minor": 5
}
